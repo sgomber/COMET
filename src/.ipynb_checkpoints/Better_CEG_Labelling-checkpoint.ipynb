{
 "cells": [
  {
   "cell_type": "code",
   "execution_count": 1,
   "id": "345a2df3",
   "metadata": {},
   "outputs": [],
   "source": [
    "import sys\n",
    "from Utils import readConfigurations"
   ]
  },
  {
   "cell_type": "code",
   "execution_count": 2,
   "id": "492f696a",
   "metadata": {},
   "outputs": [],
   "source": [
    "import json\n",
    "import pandas\n",
    "import importlib"
   ]
  },
  {
   "cell_type": "code",
   "execution_count": 3,
   "id": "cd9f43f8",
   "metadata": {},
   "outputs": [],
   "source": [
    "## Setting up the configurations ##\n",
    "\n",
    "configuration_file = \"../configurations/auto-mpg.txt\"\n",
    "configurations = readConfigurations(configuration_file)\n",
    "# print(json.dumps(configurations, indent = 4))"
   ]
  },
  {
   "cell_type": "code",
   "execution_count": 4,
   "id": "6f6e8b2d",
   "metadata": {},
   "outputs": [
    {
     "name": "stdout",
     "output_type": "stream",
     "text": [
      "./examples/Auto-MPG//train_data.csv\n",
      "Please provide path to test and train csv files\n"
     ]
    },
    {
     "ename": "SystemExit",
     "evalue": "0",
     "output_type": "error",
     "traceback": [
      "An exception has occurred, use %tb to see the full traceback.\n",
      "\u001b[0;31mSystemExit\u001b[0m\u001b[0;31m:\u001b[0m 0\n"
     ]
    },
    {
     "name": "stderr",
     "output_type": "stream",
     "text": [
      "/Users/sgomber/Documents/Projects/COMET/comet_venv/lib/python3.10/site-packages/IPython/core/interactiveshell.py:3441: UserWarning: To exit: use 'exit', 'quit', or Ctrl-D.\n",
      "  warn(\"To exit: use 'exit', 'quit', or Ctrl-D.\", stacklevel=1)\n"
     ]
    }
   ],
   "source": [
    "## Getting the data ##\n",
    "\n",
    "from ModelCalls import generate_data\n",
    "sys.path.append('../src/Models')\n",
    "make_data = importlib.__import__(configurations['model']).make_data\n",
    "\n",
    "train_all, train_labels_all, test_all, test_labels_all,min_max_dict = generate_data(make_data, configurations)\n"
   ]
  },
  {
   "cell_type": "code",
   "execution_count": null,
   "id": "07ea67a9",
   "metadata": {},
   "outputs": [],
   "source": []
  },
  {
   "cell_type": "code",
   "execution_count": null,
   "id": "e2d69b5b",
   "metadata": {},
   "outputs": [],
   "source": []
  }
 ],
 "metadata": {
  "kernelspec": {
   "display_name": "comet_venv",
   "language": "python",
   "name": "comet_venv"
  },
  "language_info": {
   "codemirror_mode": {
    "name": "ipython",
    "version": 3
   },
   "file_extension": ".py",
   "mimetype": "text/x-python",
   "name": "python",
   "nbconvert_exporter": "python",
   "pygments_lexer": "ipython3",
   "version": "3.10.8"
  }
 },
 "nbformat": 4,
 "nbformat_minor": 5
}
